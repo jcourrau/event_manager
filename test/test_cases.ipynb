{
 "cells": [
  {
   "metadata": {},
   "cell_type": "markdown",
   "source": "## Imports",
   "id": "269858e396e7f1bc"
  },
  {
   "metadata": {
    "ExecuteTime": {
     "end_time": "2025-03-05T03:04:15.743798Z",
     "start_time": "2025-03-05T03:04:15.716321Z"
    }
   },
   "cell_type": "code",
   "source": [
    "import pandas as pd\n",
    "from event_recurrance import *\n",
    "from sample_event_list import existing_events\n",
    "from test_cases import test_cases"
   ],
   "id": "5afa9699d25159f8",
   "outputs": [],
   "execution_count": 11
  },
  {
   "metadata": {},
   "cell_type": "markdown",
   "source": "## 1. Run Test",
   "id": "bf7b323f49b3db58"
  },
  {
   "metadata": {
    "ExecuteTime": {
     "end_time": "2025-03-05T03:52:52.490397Z",
     "start_time": "2025-03-05T03:52:52.078590Z"
    }
   },
   "cell_type": "code",
   "source": [
    "n = 1\n",
    "test_results_df = pd.DataFrame()\n",
    "test_tittles_dic = {}\n",
    "\n",
    "# Test Results.\n",
    "for tittle, new_event_data in test_cases.items():\n",
    "\n",
    "    # Summary\n",
    "    print(f\"Test Case {n}: {tittle}\")\n",
    "    scenario = count_weekly_events(new_event_data, existing_events)\n",
    "    print(summary_weekly_events(scenario),\"\\n\")\n",
    "\n",
    "    # Add test data to dataframe\n",
    "    temp_df = pd.DataFrame(list(scenario.items()), columns=[\"Week Start Date\", \"Event Count\"])\n",
    "    temp_df[\"Test Number\"] = n\n",
    "    test_results_df = pd.concat([test_results_df, temp_df], ignore_index=True)\n",
    "\n",
    "    # Test tittle data\n",
    "    #test_tittles_dic[n] = tittle\n",
    "\n",
    "    n += 1\n",
    "\n",
    "test_results_df.head(5)"
   ],
   "id": "7cc5022ec3559f81",
   "outputs": [
    {
     "name": "stdout",
     "output_type": "stream",
     "text": [
      "Test Case 1: Adding a new weekly event on Mondays\n",
      "Total events: 977 | Total weeks: 42 | Average events per week:  23 \n",
      "\n",
      "Test Case 2: Adding a new bi-weekly event on Wednesdays\n",
      "Total events: 977 | Total weeks: 42 | Average events per week:  23 \n",
      "\n",
      "Test Case 3: Adding a new monthly event on the 15th\n",
      "Total events: 987 | Total weeks: 42 | Average events per week:  24 \n",
      "\n",
      "Test Case 4: Adding a weekly event overlapping multiple existing events\n",
      "Total events: 977 | Total weeks: 42 | Average events per week:  23 \n",
      "\n",
      "Test Case 5: Adding an event far into the future\n",
      "Total events: 994 | Total weeks: 42 | Average events per week:  24 \n",
      "\n",
      "Test Case 6: Weekly Salary Deposit\n",
      "Total events: 957 | Total weeks: 42 | Average events per week:  23 \n",
      "\n",
      "Test Case 7: Bi-weekly Grocery Shopping\n",
      "Total events: 957 | Total weeks: 42 | Average events per week:  23 \n",
      "\n",
      "Test Case 8: Monthly Rent Payment\n",
      "Total events: 957 | Total weeks: 42 | Average events per week:  23 \n",
      "\n",
      "Test Case 9: Electric Bill Payment\n",
      "Total events: 987 | Total weeks: 42 | Average events per week:  24 \n",
      "\n",
      "Test Case 10: One-time Medical Expense\n",
      "Total events: 23 | Total weeks: 1 | Average events per week:  23 \n",
      "\n",
      "Test Case 11: Monthly Savings Contribution\n",
      "Total events: 977 | Total weeks: 42 | Average events per week:  23 \n",
      "\n",
      "Test Case 12: Bi-weekly Transport Card Recharge\n",
      "Total events: 977 | Total weeks: 42 | Average events per week:  23 \n",
      "\n",
      "Test Case 13: Annual Insurance Payment\n",
      "Total events: 994 | Total weeks: 42 | Average events per week:  24 \n",
      "\n"
     ]
    },
    {
     "data": {
      "text/plain": [
       "  Week Start Date  Event Count  Test Number\n",
       "0      2024-03-04           15            1\n",
       "1      2024-03-11           15            1\n",
       "2      2024-03-18           24            1\n",
       "3      2024-03-25           23            1\n",
       "4      2024-04-01           23            1"
      ],
      "text/html": [
       "<div>\n",
       "<style scoped>\n",
       "    .dataframe tbody tr th:only-of-type {\n",
       "        vertical-align: middle;\n",
       "    }\n",
       "\n",
       "    .dataframe tbody tr th {\n",
       "        vertical-align: top;\n",
       "    }\n",
       "\n",
       "    .dataframe thead th {\n",
       "        text-align: right;\n",
       "    }\n",
       "</style>\n",
       "<table border=\"1\" class=\"dataframe\">\n",
       "  <thead>\n",
       "    <tr style=\"text-align: right;\">\n",
       "      <th></th>\n",
       "      <th>Week Start Date</th>\n",
       "      <th>Event Count</th>\n",
       "      <th>Test Number</th>\n",
       "    </tr>\n",
       "  </thead>\n",
       "  <tbody>\n",
       "    <tr>\n",
       "      <th>0</th>\n",
       "      <td>2024-03-04</td>\n",
       "      <td>15</td>\n",
       "      <td>1</td>\n",
       "    </tr>\n",
       "    <tr>\n",
       "      <th>1</th>\n",
       "      <td>2024-03-11</td>\n",
       "      <td>15</td>\n",
       "      <td>1</td>\n",
       "    </tr>\n",
       "    <tr>\n",
       "      <th>2</th>\n",
       "      <td>2024-03-18</td>\n",
       "      <td>24</td>\n",
       "      <td>1</td>\n",
       "    </tr>\n",
       "    <tr>\n",
       "      <th>3</th>\n",
       "      <td>2024-03-25</td>\n",
       "      <td>23</td>\n",
       "      <td>1</td>\n",
       "    </tr>\n",
       "    <tr>\n",
       "      <th>4</th>\n",
       "      <td>2024-04-01</td>\n",
       "      <td>23</td>\n",
       "      <td>1</td>\n",
       "    </tr>\n",
       "  </tbody>\n",
       "</table>\n",
       "</div>"
      ]
     },
     "execution_count": 14,
     "metadata": {},
     "output_type": "execute_result"
    }
   ],
   "execution_count": 14
  },
  {
   "metadata": {},
   "cell_type": "markdown",
   "source": "## 2. Test Cases Data",
   "id": "55a7bfe4ba7546f7"
  },
  {
   "metadata": {
    "ExecuteTime": {
     "end_time": "2025-03-07T23:49:24.719382Z",
     "start_time": "2025-03-07T23:49:24.540639Z"
    }
   },
   "cell_type": "code",
   "source": [
    "# Convert to DataFrame\n",
    "test_cases_data_df = pd.DataFrame.from_dict(test_cases, orient='index')\n",
    "\n",
    "# Reset index to include case names and add case numbers\n",
    "test_cases_data_df.reset_index(inplace=True)\n",
    "test_cases_data_df.rename(columns={'index': 'case_description'}, inplace=True)\n",
    "test_cases_data_df.insert(0, 'case_number', range(1, len(test_cases_data_df) + 1))\n"
   ],
   "id": "591236bbbd2d7e81",
   "outputs": [
    {
     "ename": "NameError",
     "evalue": "name 'pd' is not defined",
     "output_type": "error",
     "traceback": [
      "\u001B[31m---------------------------------------------------------------------------\u001B[39m",
      "\u001B[31mNameError\u001B[39m                                 Traceback (most recent call last)",
      "\u001B[36mCell\u001B[39m\u001B[36m \u001B[39m\u001B[32mIn[1]\u001B[39m\u001B[32m, line 2\u001B[39m\n\u001B[32m      1\u001B[39m \u001B[38;5;66;03m# Convert to DataFrame\u001B[39;00m\n\u001B[32m----> \u001B[39m\u001B[32m2\u001B[39m test_cases_data_df = \u001B[43mpd\u001B[49m.DataFrame.from_dict(test_cases, orient=\u001B[33m'\u001B[39m\u001B[33mindex\u001B[39m\u001B[33m'\u001B[39m)\n\u001B[32m      4\u001B[39m \u001B[38;5;66;03m# Reset index to include case names and add case numbers\u001B[39;00m\n\u001B[32m      5\u001B[39m test_cases_data_df.reset_index(inplace=\u001B[38;5;28;01mTrue\u001B[39;00m)\n",
      "\u001B[31mNameError\u001B[39m: name 'pd' is not defined"
     ]
    }
   ],
   "execution_count": 1
  },
  {
   "metadata": {},
   "cell_type": "markdown",
   "source": "## 3. Existing events data",
   "id": "448317b65a05e5ab"
  },
  {
   "metadata": {},
   "cell_type": "code",
   "outputs": [],
   "execution_count": null,
   "source": "# Generate csv for existing events.",
   "id": "e2854b82a8b6680"
  },
  {
   "metadata": {},
   "cell_type": "markdown",
   "source": "## 4. Export Data",
   "id": "e9cc8868e2c987dc"
  },
  {
   "metadata": {},
   "cell_type": "code",
   "outputs": [],
   "execution_count": null,
   "source": [
    "# Export data\n",
    "print(test_results_df.head(5))\n",
    "#print(test_tittles_df.head(5))\n",
    "print(df.head(5))\n",
    "#test_results_df.to_csv(f\"test_cases {datetime.now().strftime(\"%m%d%Y-%H%M%S\")}.csv\")\n",
    "#test_results_df.to_csv(f\"test_cases {datetime.now().strftime(\"%m%d%Y-%H%M%S\")}.csv\")"
   ],
   "id": "4e186a7899ae6cb0"
  },
  {
   "metadata": {},
   "cell_type": "markdown",
   "source": [
    "# How to Test the results.\n",
    "\n",
    "## 1. Verify Existing Events.\n",
    "**Function:** occurs_on\n",
    "\n",
    "1. Verify that each existing event is happening in the right dates.\n",
    "    1. For each existing event, check that the dates match the event's parameters.\n",
    "    **e.g.** A weekly event on Mondays, should happen every 7 days on a Monday.\n",
    "\n",
    "   2. Key aspects to check:\n",
    "       - n-weekly events:\n",
    "              <br>• A n-weekly event should happen every x amount of days. amount of days = n_weeks * 7\n",
    "              <br>• For events happening more than once a week, treat each week date like a separate event.\n",
    "\n",
    "       - monthly events:\n",
    "              <br>• For events happening at certain days of the month, just check the month day.\n",
    "\n",
    "\n",
    "\n",
    "## 2a. Verify the weekly count of events.\n",
    "**Function:** count_weekly_events\n",
    "\n",
    "1. Get the count of existing events for each week.\n",
    "    1. From the existing events occurrences calculate the week starting date (Monday)\n",
    "    2. Aggregate the results for each week.\n",
    "    3. You should have a table (weekly_count) with starting week dates and count.\n",
    "\n",
    "## 2b. Verify each test case.\n",
    "Now that you verified that the existing events are occurring in the right dates and that you have an accurate event **weekly_count**, get the frequency for each test case. Every 7 days, 14 days, 28 to 30 days...\n",
    "\n",
    "Then you need to verify 2 aspects:\n",
    "### Frequency:\n",
    "1. For n-weekly events:\n",
    "    1. Check that the first date in **test_results** match the starting week date for the event's starting date.\n",
    "    2. Verify that the **test cases** are happening in the right weekly frequency in **test_results**. You can disregard the week days.\n",
    "        - E.g. A bi-weekly event that happens on mondays and fridays, should happen every 14 days.\n",
    "\n",
    "2. For monthly events:\n",
    "    1. Get the occurrence dates and then verify the month days on the occurrence matches the month days in the parameters.\n",
    "    2. For each occurrence get the starting date of the week, and then verify it matches the dates on the **test_results**\n",
    "\n",
    "### Event count:\n",
    "Now you should have a verified list of dates for the start of the week for each occurrence of the test cases.\n",
    "1. For each test case check that the **event_count** for all weeks (Week Start Date) matches the **event_count** on your accurate **weekly_count** table."
   ],
   "id": "d2efd81f521f2d1e"
  }
 ],
 "metadata": {
  "kernelspec": {
   "display_name": "Python 3",
   "language": "python",
   "name": "python3"
  },
  "language_info": {
   "codemirror_mode": {
    "name": "ipython",
    "version": 2
   },
   "file_extension": ".py",
   "mimetype": "text/x-python",
   "name": "python",
   "nbconvert_exporter": "python",
   "pygments_lexer": "ipython2",
   "version": "2.7.6"
  }
 },
 "nbformat": 4,
 "nbformat_minor": 5
}
